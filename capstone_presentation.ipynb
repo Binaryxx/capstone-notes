{
 "cells": [
  {
   "cell_type": "markdown",
   "metadata": {},
   "source": [
    "# Capstone Notes: Presentation  \n",
    "<hr>"
   ]
  },
  {
   "cell_type": "markdown",
   "metadata": {},
   "source": [
    "* Cover Page\n",
    "> Title and Contacts\n",
    "* Executive Summary\n",
    "* Table of Contents\n",
    ">Road Map\n",
    "* Intro\n",
    "* Methodology\n",
    "* Results\n",
    "* Discussion\n",
    "> Answering the question\n",
    "* Conclusion\n",
    "* Appendix \n",
    "  \n",
    "  \n",
    "**Checklist:**  \n",
    "Have you told readers, at the outset, what they might gain by reading your paper?\n",
    "\n",
    "Have you made the aim of your work clear?\n",
    "\n",
    "Have you explained the significance of your contribution?\n",
    "\n",
    "Have you set your work in the appropriate context by giving sufficient background (including a complete set of relevant references) to your work?\n",
    "\n",
    "Have you addressed the question of practicality and usefulness?\n",
    "\n",
    "Have you identified future developments that might result from your work?\n",
    "\n",
    "Have you structured your paper in a clear and logical fashion?\n",
    "\n",
    "_Misc:_  \n",
    "Focus on the key points  \n",
    "  \n",
    "Use the graphic to convey one idea only and not multiple findings"
   ]
  },
  {
   "cell_type": "markdown",
   "metadata": {},
   "source": [
    "### Executive Summary  \n",
    "\n",
    "* Briefly explain the details\n",
    "* Standalone doc that covers everything"
   ]
  },
  {
   "cell_type": "markdown",
   "metadata": {},
   "source": [
    "### Intro\n",
    "* Nature of the Analysis\n",
    "* States the Problem\n",
    "* States the Questions for Analysis"
   ]
  },
  {
   "cell_type": "markdown",
   "metadata": {},
   "source": [
    "### Methodology  \n",
    "\n",
    "* Explains data sources\n",
    "* Outlines the plan for the collected data\n",
    "> What will be done to analyze data (regression or clustering, etc)"
   ]
  },
  {
   "cell_type": "markdown",
   "metadata": {},
   "source": [
    "### Results  \n",
    "  \n",
    "* Goes into the Data Collection\n",
    "* How it is organized and analyzed\n",
    "> includes graphs and charts of findings"
   ]
  },
  {
   "cell_type": "markdown",
   "metadata": {},
   "source": [
    "### Discussion\n",
    "* Discuss the findings and its implications from the research made"
   ]
  },
  {
   "cell_type": "markdown",
   "metadata": {},
   "source": [
    "### Conclusion  \n",
    "* Reiterate findings and give an overall summary\n",
    "* Restates the outcome of the analysis\n",
    "> Include any further steps needed"
   ]
  },
  {
   "cell_type": "markdown",
   "metadata": {},
   "source": [
    "### Appendix\n",
    "* Info that didnt fit in the report but important enough to still mention\n",
    "> resources, references"
   ]
  }
 ],
 "metadata": {
  "kernelspec": {
   "display_name": "Python 3.10.9 64-bit (microsoft store)",
   "language": "python",
   "name": "python3"
  },
  "language_info": {
   "name": "python",
   "version": "3.10.9"
  },
  "orig_nbformat": 4,
  "vscode": {
   "interpreter": {
    "hash": "aea6fe521a8d4c902ca730e502c1a2f7b75abf53da708eec9ae2a041880e07b3"
   }
  }
 },
 "nbformat": 4,
 "nbformat_minor": 2
}
