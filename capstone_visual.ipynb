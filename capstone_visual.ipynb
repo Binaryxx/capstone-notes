{
 "cells": [
  {
   "cell_type": "markdown",
   "metadata": {},
   "source": [
    "# Capstone Notes: Visual Analytics  \n",
    "<hr>"
   ]
  },
  {
   "cell_type": "markdown",
   "metadata": {},
   "source": [
    "### Folium"
   ]
  },
  {
   "cell_type": "code",
   "execution_count": null,
   "metadata": {},
   "outputs": [],
   "source": [
    "import folium\n",
    "import wget\n",
    "import pandas as pd\n",
    "from folium.plugins import MarkerCluster\n",
    "from folium.plugins import MousePosition\n",
    "from folium.features import DivIcon"
   ]
  },
  {
   "cell_type": "code",
   "execution_count": null,
   "metadata": {},
   "outputs": [],
   "source": [
    "csv_file = wget.download('CSV URL')\n",
    "df=pd.read_csv(csv_file)"
   ]
  },
  {
   "cell_type": "code",
   "execution_count": null,
   "metadata": {},
   "outputs": [],
   "source": [
    "# Create a map object\n",
    "\n",
    "starting_coord = [000,000]\n",
    "site_map = folium.Map(location=starting_coord, zoom_start=10)\n"
   ]
  },
  {
   "cell_type": "code",
   "execution_count": null,
   "metadata": {},
   "outputs": [],
   "source": [
    "\n",
    "# Create a filled orange circle at target coordinate with a popup label showing its name\n",
    "target_coord = [000,000]\n",
    "circle = folium.Circle(target_coord, radius=1000, color='#d35400', fill=True).add_child(folium.Popup('Target'))\n",
    "\n",
    "# Create a name label marker at target coordinate with its name\n",
    "marker = folium.map.Marker(\n",
    "    target_coord,\n",
    "    icon=DivIcon(\n",
    "        icon_size=(20,20),\n",
    "        icon_anchor=(0,0),\n",
    "        html='<div style=\"font-size: 12; color:#d35400;\"><b>%s</b></div>' % 'Target',\n",
    "        )\n",
    "    )\n",
    "\n",
    "site_map.add_child(circle)\n",
    "site_map.add_child(marker)"
   ]
  },
  {
   "cell_type": "code",
   "execution_count": null,
   "metadata": {},
   "outputs": [],
   "source": [
    "# df manipulation\n",
    "\n",
    "df['New Col'] = df['Col to Apply Func'].apply(func_name) # iterates through each row of the given column and applies the function with the values of the rows as the input\n",
    "\n",
    "for index, record in df.iterrows(): # for loop which iterates through the records (cells of each row) and then the index (rows)"
   ]
  },
  {
   "cell_type": "code",
   "execution_count": null,
   "metadata": {},
   "outputs": [],
   "source": [
    "# coords of where the mouse is will be displayed on the top left\n",
    "\n",
    "formatter = \"function(num) {return L.Util.formatNum(num, 5);};\"\n",
    "mouse_position = MousePosition(\n",
    "    position='topright',\n",
    "    separator=' Long: ',\n",
    "    empty_string='NaN',\n",
    "    lng_first=False,\n",
    "    num_digits=20,\n",
    "    prefix='Lat:',\n",
    "    lat_formatter=formatter,\n",
    "    lng_formatter=formatter,\n",
    ")\n",
    "\n",
    "site_map.add_child(mouse_position)\n",
    "\n"
   ]
  },
  {
   "cell_type": "code",
   "execution_count": null,
   "metadata": {},
   "outputs": [],
   "source": [
    "# calculates distance from 2 points\n",
    "\n",
    "from math import sin, cos, sqrt, atan2, radians\n",
    "\n",
    "def calculate_distance(lat1, lon1, lat2, lon2):\n",
    "    # approximate radius of earth in km\n",
    "    R = 6373.0\n",
    "\n",
    "    lat1 = radians(lat1)\n",
    "    lon1 = radians(lon1)\n",
    "    lat2 = radians(lat2)\n",
    "    lon2 = radians(lon2)\n",
    "\n",
    "    dlon = lon2 - lon1\n",
    "    dlat = lat2 - lat1\n",
    "\n",
    "    a = sin(dlat / 2)**2 + cos(lat1) * cos(lat2) * sin(dlon / 2)**2\n",
    "    c = 2 * atan2(sqrt(a), sqrt(1 - a))\n",
    "\n",
    "    distance = R * c\n",
    "    return distance\n",
    "\n",
    "\n",
    "target1_coord = [00,00]\n",
    "target2_coord = [11,11]\n",
    "\n",
    "distance_target = calculate_distance(target1_coord[0], target1_coord[1], target2_coord[0], target2_coord[1])\n",
    "\n",
    "\n",
    "\n",
    "# displays the distance from another point as a marker\n",
    "distance_marker = folium.Marker(\n",
    "   [target2_coord[0], target2_coord[1]],\n",
    "   icon=DivIcon(\n",
    "       icon_size=(20,20),\n",
    "       icon_anchor=(0,0),\n",
    "       html='<div style=\"font-size: 12; color:#d35400;\"><b>%s</b></div>' % \"{:10.2f} KM\".format(distance_target), \n",
    "       ), \n",
    "    popup = \"Distance of Target 2 to Target 1\"\n",
    "   )\n",
    "\n",
    "site_map.add_child(distance_marker)\n",
    "\n",
    "\n",
    "\n",
    "# Creates a line between the two points \n",
    "lines = folium.PolyLine(locations=[target1_coord, target2_coord], weight=1)\n",
    "site_map.add_child(lines)"
   ]
  },
  {
   "cell_type": "markdown",
   "metadata": {},
   "source": [
    "<hr>  \n",
    "  \n",
    "### Dashboard"
   ]
  },
  {
   "cell_type": "code",
   "execution_count": null,
   "metadata": {},
   "outputs": [],
   "source": [
    "import pandas as pd\n",
    "import dash\n",
    "import dash_html_components as html\n",
    "import dash_core_components as dcc\n",
    "from dash.dependencies import Input, Output\n",
    "import plotly.express as px"
   ]
  },
  {
   "cell_type": "code",
   "execution_count": null,
   "metadata": {},
   "outputs": [],
   "source": [
    "app = dash.Dash(__name__) # create app object"
   ]
  },
  {
   "cell_type": "code",
   "execution_count": null,
   "metadata": {},
   "outputs": [],
   "source": [
    "# app layout\n",
    "app.layout = html.Div(children=[html.H1('Title', # title\n",
    "                                        style = {\n",
    "                                                'textAlign': 'center', 'color': '#503D36',\n",
    "                                                'font-size': 40\n",
    "                                               }),\n",
    "\n",
    "                                dcc.Dropdown( # dropdown object\n",
    "                                            id = 'dropdown',\n",
    "                                            options = \n",
    "                                                [\n",
    "                                                    {\"label\": \"Label 1\", \"value\": \"Value1\"}, # dropdown options\n",
    "                                                    ..., \n",
    "                                                    {\"label\": \"Label N\t\", \"value\": \"Value N\"},\n",
    "\n",
    "                                                ],\n",
    "                                            value = \"Default Value\", # default value\n",
    "                                            placeholder = \"Select an Option\", # Text before a selection is made\n",
    "                                            searchable = False # whether a typed input is allowed or only clicking the options in dropdown\n",
    "                                            ),\n",
    "                                html.Br(), # line break\n",
    "\n",
    "                                html.Div(dcc.Graph(id='Chart ID')), # graph object for graph\n",
    "                                html.Br(),\n",
    "\n",
    "                                html.P(\"Paragraph Text\"), # paragraph\n",
    "                                dcc.RangeSlider(id='Slider',\n",
    "                                                min = 0, # min of slider\n",
    "                                                max = 1, # max of slider\n",
    "                                                step = 1, # steps of slider\n",
    "                                                value = [0, 1]), # default value of slider\n"
   ]
  },
  {
   "cell_type": "code",
   "execution_count": null,
   "metadata": {},
   "outputs": [],
   "source": [
    "#function decorator and callback function\n",
    "\n",
    "@app.callback(Output(component_id='ID to send output', component_property='Property Type such as figure for graphs'),\n",
    "              Input(component_id='ID for input change', component_property='Property Type such as value that will change'), Input(component_id=\"Second ID Input\", component_property=\"Property Type\"))\n",
    "              \n",
    "def change_func(input1, input2):\n",
    "    # input function; does a process to return the wanted output as a result of the changed input\n",
    "    # if else statements can be used to account for different input values\n",
    "    # check capstone dashboard for reference"
   ]
  },
  {
   "cell_type": "code",
   "execution_count": null,
   "metadata": {},
   "outputs": [],
   "source": [
    "# Run the app\n",
    "if __name__ == '__main__':\n",
    "    app.run_server()"
   ]
  }
 ],
 "metadata": {
  "kernelspec": {
   "display_name": "Python 3.10.9 64-bit (microsoft store)",
   "language": "python",
   "name": "python3"
  },
  "language_info": {
   "name": "python",
   "version": "3.10.9"
  },
  "orig_nbformat": 4,
  "vscode": {
   "interpreter": {
    "hash": "aea6fe521a8d4c902ca730e502c1a2f7b75abf53da708eec9ae2a041880e07b3"
   }
  }
 },
 "nbformat": 4,
 "nbformat_minor": 2
}
