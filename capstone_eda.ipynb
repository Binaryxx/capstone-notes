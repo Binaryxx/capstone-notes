{
 "cells": [
  {
   "cell_type": "markdown",
   "metadata": {},
   "source": [
    "# Capstone Notes: EDA  \n",
    "  \n",
    "<hr>"
   ]
  },
  {
   "cell_type": "markdown",
   "metadata": {},
   "source": [
    "### SQL EDA  \n",
    "  \n",
    "Upload csv to database (IBM db2 in this case); make sure date typing is good (especially for date time)"
   ]
  },
  {
   "cell_type": "code",
   "execution_count": null,
   "metadata": {},
   "outputs": [],
   "source": [
    "%load_ext sql"
   ]
  },
  {
   "cell_type": "code",
   "execution_count": null,
   "metadata": {},
   "outputs": [],
   "source": [
    "import csv, sqlite3\n",
    "\n",
    "con = sqlite3.connect(\"my_data1.db\") # create connection object to connect to db\n",
    "cur = con.cursor() # create cursor object to interact with db"
   ]
  },
  {
   "cell_type": "code",
   "execution_count": null,
   "metadata": {},
   "outputs": [],
   "source": [
    "%sql sqlite:///my_data1.db"
   ]
  },
  {
   "cell_type": "code",
   "execution_count": null,
   "metadata": {},
   "outputs": [],
   "source": [
    "import pandas as pd\n",
    "\n",
    "df = pd.read_csv(\"url to csv\")\n",
    "df.to_sql(\"table name\", con, if_exists='replace', index=False, method=\"multi\") # write records stored in a df to a sql db"
   ]
  },
  {
   "cell_type": "code",
   "execution_count": null,
   "metadata": {},
   "outputs": [],
   "source": [
    "%%sql\n",
    "\n",
    "SELECT * \n",
    "FROM SPACEXTBL \n",
    "LIMIT 10\n",
    ";"
   ]
  },
  {
   "cell_type": "markdown",
   "metadata": {},
   "source": [
    "<hr>  \n",
    "\n",
    "### Python\n",
    "  \n"
   ]
  },
  {
   "cell_type": "code",
   "execution_count": null,
   "metadata": {},
   "outputs": [],
   "source": [
    "import pandas as pd\n",
    "import numpy as np\n",
    "import matplotlib.pyplot as plt\n",
    "import seaborn as sns"
   ]
  },
  {
   "cell_type": "code",
   "execution_count": null,
   "metadata": {},
   "outputs": [],
   "source": [
    "df=pd.read_csv(\"URL\")\n",
    "df.head()"
   ]
  },
  {
   "cell_type": "code",
   "execution_count": null,
   "metadata": {},
   "outputs": [],
   "source": [
    "sns.catplot(y = \"ColX1 in Data\", x = \"ColX2 in Data\", hue = \"ColY in Data\", data = df) # 3 dim categorical plot; some categorical\n",
    "#sns.scatterplot(y = \"ColX1 in Data\", x = \"ColX2 in Data\", hue = \"ColY in Data\", data = df) # 3 dim scatter plot; all numerical\n",
    "\n",
    "plt.xlabel(\"X Axis Label\")\n",
    "plt.ylabel(\"Y Axis Label\")\n",
    "\n",
    "plt.show()"
   ]
  },
  {
   "cell_type": "code",
   "execution_count": null,
   "metadata": {},
   "outputs": [],
   "source": [
    "group_df = df.groupby([\"X Axis Col\"], as_index=False)[\"Y Axis Col\"].mean() #groups by x axis, has the corresponding average per group of x\n",
    "#group_df = df.groupby([\"X Axis Col\"], as_index=False)[\"Y Axis Col\"].sum() # sum of Y axis per group\n",
    "#group_df = df.groupby([\"X Axis Col\"], as_index=False).first() #essentially returns distinct\n",
    "\n",
    "sns.barplot(x = \"X Axis Col\", y = \"Y Axis Col\", data = group_df)\n",
    "\n",
    "plt.xlabel(\"X Axis Label\")\n",
    "plt.ylabel(\"Y Axis Label\")\n",
    "\n",
    "plt.show()"
   ]
  },
  {
   "cell_type": "code",
   "execution_count": null,
   "metadata": {},
   "outputs": [],
   "source": [
    "# A function to extract years from the date \n",
    "year = []\n",
    "\n",
    "for i in df[\"Date\"]: # Col can be changed for whatever col needs a substring to be extracted and grouped by\n",
    "    year.append(i.split(\"-\")[0]) # the split parameters are changed based on the delimiter and the index that the year is on; set up for YYYY-MM-DD  or YYYY-DD-MM format\n",
    "\n",
    "df[\"Year\"] = year # creates a year column from the list generated\n"
   ]
  },
  {
   "cell_type": "code",
   "execution_count": null,
   "metadata": {},
   "outputs": [],
   "source": [
    "features = [['Col1', ..., \"ColN\"]] # df of only the features needed\n",
    "dummy_col = [\"Orbit\", \"LaunchSite\", \"LandingPad\", \"Serial\"] # col to one hot code\n",
    "features_one_hot = pd.get_dummies(features, columns = dummy_col) # assign the newly made df with dummy var\n"
   ]
  }
 ],
 "metadata": {
  "kernelspec": {
   "display_name": "Python 3.10.9 64-bit (microsoft store)",
   "language": "python",
   "name": "python3"
  },
  "language_info": {
   "name": "python",
   "version": "3.10.9"
  },
  "orig_nbformat": 4,
  "vscode": {
   "interpreter": {
    "hash": "aea6fe521a8d4c902ca730e502c1a2f7b75abf53da708eec9ae2a041880e07b3"
   }
  }
 },
 "nbformat": 4,
 "nbformat_minor": 2
}
